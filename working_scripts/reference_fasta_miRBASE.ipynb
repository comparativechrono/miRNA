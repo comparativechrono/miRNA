{
  "nbformat": 4,
  "nbformat_minor": 0,
  "metadata": {
    "colab": {
      "provenance": [],
      "authorship_tag": "ABX9TyPb4Cxa9SXeZT1FaCjm+ZA3",
      "include_colab_link": true
    },
    "kernelspec": {
      "name": "python3",
      "display_name": "Python 3"
    },
    "language_info": {
      "name": "python"
    }
  },
  "cells": [
    {
      "cell_type": "markdown",
      "metadata": {
        "id": "view-in-github",
        "colab_type": "text"
      },
      "source": [
        "<a href=\"https://colab.research.google.com/github/comparativechrono/miRNA/blob/main/working_scripts/reference_fasta_miRBASE.ipynb\" target=\"_parent\"><img src=\"https://colab.research.google.com/assets/colab-badge.svg\" alt=\"Open In Colab\"/></a>"
      ]
    },
    {
      "cell_type": "code",
      "execution_count": 1,
      "metadata": {
        "id": "YhbUHe5ICcxB"
      },
      "outputs": [],
      "source": [
        "# Function to filter the FASTA file for sequences from Homo sapiens with case-insensitive search\n",
        "def filter_fasta_by_species_anywhere(file_path, output_path, target_species='Homo sapiens'):\n",
        "    target_species_lower = target_species.lower()\n",
        "    with open(file_path, 'r') as infile, open(output_path, 'w') as outfile:\n",
        "        keep_sequence = False\n",
        "        for line in infile:\n",
        "            if line.startswith('>'):\n",
        "                # Check if the line contains the target species name (case-insensitive)\n",
        "                if target_species_lower in line.lower():\n",
        "                    keep_sequence = True\n",
        "                    outfile.write(line)  # Write the header\n",
        "                else:\n",
        "                    keep_sequence = False\n",
        "            elif keep_sequence:\n",
        "                outfile.write(line)  # Write the sequence if the last header was kept\n",
        "\n",
        "# Function to convert U to T in the FASTA sequences\n",
        "def convert_u_to_t_in_fasta(input_path, output_path):\n",
        "    with open(input_path, 'r') as infile, open(output_path, 'w') as outfile:\n",
        "        for line in infile:\n",
        "            if line.startswith('>'):\n",
        "                outfile.write(line)  # Write the header unchanged\n",
        "            else:\n",
        "                outfile.write(line.replace('U', 'T'))  # Convert U to T in the sequence\n",
        "\n",
        "\n",
        "\n",
        "# File path for the new uploaded FASTA file\n",
        "new_fasta_file_path = 'hairpin.fa'\n",
        "\n",
        "# Specify the output file path for the filtered sequences from Homo sapiens\n",
        "output_path_hairpin_filtered = 'hairpin_filtered_homo_sapiens.fa'\n",
        "\n",
        "# Filter the new file for Homo sapiens entries\n",
        "filter_fasta_by_species_anywhere(new_fasta_file_path, output_path_hairpin_filtered)\n",
        "\n",
        "# Specify the output file path for the U to T converted file from the newly\n",
        "# filtered FASTA\n",
        "output_path_hairpin_u_to_t = 'hairpin_filtered_homo_sapiens_u_to_t.fa'\n",
        "\n",
        "# Convert U to T in the newly filtered file\n",
        "convert_u_to_t_in_fasta(output_path_hairpin_filtered, output_path_hairpin_u_to_t)\n"
      ]
    }
  ]
}