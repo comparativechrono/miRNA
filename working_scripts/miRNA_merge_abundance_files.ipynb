{
  "nbformat": 4,
  "nbformat_minor": 0,
  "metadata": {
    "colab": {
      "provenance": [],
      "authorship_tag": "ABX9TyPHBbHsCDfhIS39337KCByf",
      "include_colab_link": true
    },
    "kernelspec": {
      "name": "ir",
      "display_name": "R"
    },
    "language_info": {
      "name": "R"
    }
  },
  "cells": [
    {
      "cell_type": "markdown",
      "metadata": {
        "id": "view-in-github",
        "colab_type": "text"
      },
      "source": [
        "<a href=\"https://colab.research.google.com/github/comparativechrono/miRNA/blob/main/working_scripts/miRNA_merge_abundance_files.ipynb\" target=\"_parent\"><img src=\"https://colab.research.google.com/assets/colab-badge.svg\" alt=\"Open In Colab\"/></a>"
      ]
    },
    {
      "cell_type": "code",
      "execution_count": null,
      "metadata": {
        "id": "e5scuUnEjNUI"
      },
      "outputs": [],
      "source": [
        "if (!requireNamespace(\"BiocManager\", quietly = TRUE))\n",
        "    install.packages(\"BiocManager\")"
      ]
    },
    {
      "cell_type": "code",
      "source": [
        "BiocManager::install(\"DESeq2\")\n"
      ],
      "metadata": {
        "id": "8kazgUgkj3hc"
      },
      "execution_count": null,
      "outputs": []
    },
    {
      "cell_type": "code",
      "source": [
        "library(DESeq2)\n"
      ],
      "metadata": {
        "id": "j2NZQSq7j5vK"
      },
      "execution_count": null,
      "outputs": []
    },
    {
      "cell_type": "code",
      "source": [
        "packageVersion(\"DESeq2\")\n"
      ],
      "metadata": {
        "id": "Zp5OCUsij7KZ"
      },
      "execution_count": null,
      "outputs": []
    },
    {
      "cell_type": "code",
      "source": [
        "# Load required library\n",
        "library(DESeq2)\n",
        "\n",
        "#DATA WRANGLING AND RESHAPING\n",
        "\n",
        "# Define file paths for abundance tables\n",
        "files <- list(\n",
        "  MB01 = \"MB01.tsv\",\n",
        "  MB02 = \"MB02.tsv\",\n",
        "  MB03 = \"MB03.tsv\",\n",
        "  MB04 = \"MB04.tsv\",\n",
        "  MB05 = \"MB05.tsv\",\n",
        "  VS01 = \"VS01.tsv\",\n",
        "  VS02 = \"VS02.tsv\",\n",
        "  VS03 = \"VS03.tsv\",\n",
        "  VS04 = \"VS04.tsv\",\n",
        "  VS05 = \"VS05.tsv\"\n",
        ")\n",
        "\n",
        "# Read Kallisto abundance files and extract estimated counts\n",
        "count_data <- lapply(files, function(f) {\n",
        "  df <- read.table(f, header = TRUE, sep = \"\\t\")\n",
        "  setNames(df$est_counts, df$target_id) # Extract counts, with miRNA/transcript IDs as rownames\n",
        "})\n",
        "\n",
        "# Combine into a single counts matrix\n",
        "counts_matrix <- do.call(cbind, count_data)\n",
        "\n",
        "# Rename columns based on sample names\n",
        "colnames(counts_matrix) <- names(files)\n",
        "\n",
        "# Create sample information (metadata)\n",
        "coldata <- data.frame(\n",
        "  row.names = colnames(counts_matrix),\n",
        "  condition = factor(c(\"MB\", \"MB\", \"MB\", \"MB\", \"MB\",\n",
        "\n",
        "# Create DESeq2 dataset\n",
        "dds <- DESeqDataSetFromMatrix(countData = round(counts_matrix),\n",
        "                              colData = coldata,\n",
        "                              design = ~ condition)\"VS\", \"VS\", \"VS\", \"VS\", \"VS\"),\n",
        "                     levels = c(\"MB\", \"VS\"))\n",
        ")\n"
      ],
      "metadata": {
        "id": "UXfTK56Kpd1u"
      },
      "execution_count": null,
      "outputs": []
    }
  ]
}